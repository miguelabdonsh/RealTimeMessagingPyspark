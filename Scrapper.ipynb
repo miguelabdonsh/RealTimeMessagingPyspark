{
 "cells": [
  {
   "cell_type": "markdown",
   "id": "8220805d",
   "metadata": {},
   "source": [
    "### IMPORTACION DE LIBRERIAS\n"
   ]
  },
  {
   "cell_type": "code",
   "execution_count": null,
   "id": "494e072b",
   "metadata": {},
   "outputs": [],
   "source": [
    "from selenium import webdriver\n",
    "from selenium.webdriver.chrome.service import Service\n",
    "from selenium.webdriver.common.by import By\n",
    "from selenium.webdriver.chrome.options import Options\n",
    "from selenium.webdriver.common.keys import Keys\n",
    "from webdriver_manager.chrome import ChromeDriverManager\n",
    "from selenium.webdriver.common.action_chains import ActionChains\n",
    "from selenium import webdriver\n",
    "from selenium.webdriver.support.ui import WebDriverWait\n",
    "from bs4 import BeautifulSoup\n",
    "import csv\n",
    "from selenium.webdriver.support import expected_conditions as EC\n",
    "import socket\n",
    "import time"
   ]
  },
  {
   "cell_type": "markdown",
   "id": "98ccb4cd",
   "metadata": {},
   "source": [
    "### Configuracion del webdriver y navegacion a la pagina"
   ]
  },
  {
   "cell_type": "code",
   "execution_count": null,
   "id": "d4623e5c",
   "metadata": {},
   "outputs": [],
   "source": [
    "# Configura las opciones de Chrome\n",
    "chrome_options = Options()\n",
    "chrome_options.binary_location = \"/usr/bin/google-chrome\"  # Establece la ubicación del binario de Chrome\n",
    "\n",
    "# Se configura el webdriver\n",
    "service = Service(ChromeDriverManager().install())\n",
    "driver = webdriver.Chrome(service=service, options=chrome_options)\n",
    "\n",
    "# Abrir la página web\n",
    "driver.get(\"https://www.everyonesinvited.uk/read\")"
   ]
  },
  {
   "cell_type": "markdown",
   "id": "47cfd390",
   "metadata": {},
   "source": [
    "### Configuracion celda del socket"
   ]
  },
  {
   "cell_type": "code",
   "execution_count": null,
   "id": "769c72d9",
   "metadata": {},
   "outputs": [],
   "source": [
    "# Configurar el socket\n",
    "sock = socket.socket(socket.AF_INET, socket.SOCK_STREAM)\n",
    "server_address = ('localhost', 12345)\n",
    "sock.bind(server_address)\n",
    "sock.listen(1)\n",
    "\n",
    "# Aceptar una conexión del consumidor\n",
    "connection, client_address = sock.accept()"
   ]
  },
  {
   "cell_type": "markdown",
   "id": "5bea7e6a",
   "metadata": {},
   "source": [
    "### Recoleccion de mensajes y envio a traves del socket"
   ]
  },
  {
   "cell_type": "code",
   "execution_count": null,
   "id": "e2aabe50",
   "metadata": {},
   "outputs": [],
   "source": [
    "# Crear una espera explícita que se utilizará para esperar a que aparezca el botón\n",
    "wait = WebDriverWait(driver, 10)\n",
    "\n",
    "# Contador para el número de clics\n",
    "clicks = 0\n",
    "\n",
    "# Almacenar los mensajes que ya se han enviado\n",
    "sent_messages = set()\n",
    "\n",
    "# Crear una lista para almacenar los mensajes\n",
    "messages_list = []\n",
    "\n",
    "while clicks < 15:  # Ajustar este número según sea necesario\n",
    "    try:\n",
    "        # Esperar hasta que aparezca el botón y luego hacer clic en él\n",
    "        load_more_button = wait.until(EC.element_to_be_clickable((By.XPATH, '//button[text()=\"LOAD MORE\"]')))\n",
    "        load_more_button.click()\n",
    "\n",
    "        # Incrementar el contador de clics\n",
    "        clicks += 1\n",
    "\n",
    "        # Esperar un poco para que se carguen los mensajes\n",
    "        time.sleep(2)\n",
    "\n",
    "        # Extraer y enviar los mensajes que se han cargado\n",
    "        soup = BeautifulSoup(driver.page_source, 'html.parser')\n",
    "        messages = [p.text for p in soup.find_all('p')]\n",
    "        for message in messages:\n",
    "            if message not in sent_messages:\n",
    "                connection.sendall((message + '\\n').encode('utf-8'))\n",
    "                sent_messages.add(message)\n",
    "                messages_list.append(message)\n",
    "                \n",
    "        # Agregar declaración de impresión para verificar los mensajes extraídos\n",
    "        print(messages)\n",
    "\n",
    "    except Exception as e:\n",
    "        # Si no se puede encontrar el botón, rompemos el bucle\n",
    "        break\n",
    "\n",
    "\n",
    "# Enviar una señal de cierre al consumidor\n",
    "connection.sendall(\"SCRAPING_DONE\".encode())\n",
    "\n",
    "# Cerrar el navegador\n",
    "driver.quit()\n",
    "\n",
    "# Cerrar la conexión\n",
    "connection.close()\n"
   ]
  },
  {
   "cell_type": "markdown",
   "id": "db32baa5",
   "metadata": {},
   "source": [
    "### Escritura CSV"
   ]
  },
  {
   "cell_type": "code",
   "execution_count": null,
   "id": "6ac9787d",
   "metadata": {},
   "outputs": [],
   "source": [
    "#with open('mensajes.csv', 'w', newline='', encoding='utf-8') as csvfile:\n",
    "#    writer = csv.writer(csvfile)\n",
    "#    writer.writerow(['Mensaje'])\n",
    "#    writer.writerows([[message] for message in messages_list])"
   ]
  }
 ],
 "metadata": {
  "kernelspec": {
   "display_name": "Python 3 (ipykernel)",
   "language": "python",
   "name": "python3"
  },
  "language_info": {
   "codemirror_mode": {
    "name": "ipython",
    "version": 3
   },
   "file_extension": ".py",
   "mimetype": "text/x-python",
   "name": "python",
   "nbconvert_exporter": "python",
   "pygments_lexer": "ipython3",
   "version": "3.8.10"
  }
 },
 "nbformat": 4,
 "nbformat_minor": 5
}
